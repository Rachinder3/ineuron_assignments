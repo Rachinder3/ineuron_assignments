{
 "cells": [
  {
   "cell_type": "markdown",
   "id": "3dc3b463",
   "metadata": {},
   "source": [
    "# Questions"
   ]
  },
  {
   "cell_type": "markdown",
   "id": "5da557e4",
   "metadata": {},
   "source": [
    "<ol>\n",
    "<li>Write a Python Program to Find the Factorial of a Number? </li>\n",
    "    <li>Write a Python Program to Display the multiplication Table? </li>\n",
    "    <li> Write a Python Program to Print the Fibonacci sequence?</li>\n",
    "    <li>Write a Python Program to Check Armstrong Number?</li>\n",
    "    <li>Write a Python Program to Find Armstrong Number in an Interval?</li>\n",
    "    <li>Write a Python Program to Find the Sum of Natural Numbers?</li>\n",
    "</ol>"
   ]
  },
  {
   "cell_type": "markdown",
   "id": "4a32b42b",
   "metadata": {},
   "source": [
    "### 1. Write a Python Program to Find the Factorial of a Number?"
   ]
  },
  {
   "cell_type": "code",
   "execution_count": 2,
   "id": "fcba3ff1",
   "metadata": {},
   "outputs": [
    {
     "name": "stdout",
     "output_type": "stream",
     "text": [
      "Enter your number: 6\n",
      "Factorial is  720\n"
     ]
    }
   ],
   "source": [
    "number=int(input(\"Enter your number: \"))\n",
    "\n",
    "if number==0 or number==1:\n",
    "    print(\"Factorial is: \",1)\n",
    "else:\n",
    "    factorial=1\n",
    "    for i in range(2,number+1):\n",
    "        factorial*=i\n",
    "    print(\"Factorial is \",factorial)\n",
    "\n",
    "\n",
    "    "
   ]
  },
  {
   "cell_type": "markdown",
   "id": "c0ef76f5",
   "metadata": {},
   "source": [
    "### 2. Write a Python Program to Display the multiplication Table?"
   ]
  },
  {
   "cell_type": "code",
   "execution_count": 4,
   "id": "64d80ac7",
   "metadata": {},
   "outputs": [
    {
     "name": "stdout",
     "output_type": "stream",
     "text": [
      "Enter the number for which you want to print the table: 17\n",
      "17 * 1 = 17\n",
      "17 * 2 = 34\n",
      "17 * 3 = 51\n",
      "17 * 4 = 68\n",
      "17 * 5 = 85\n",
      "17 * 6 = 102\n",
      "17 * 7 = 119\n",
      "17 * 8 = 136\n",
      "17 * 9 = 153\n",
      "17 * 10 = 170\n"
     ]
    }
   ],
   "source": [
    "number=int(input(\"Enter the number for which you want to print the table: \"))\n",
    "\n",
    "for i in range(1,11):\n",
    "    print(\"{} * {} = {}\".format(number,i,number*i))"
   ]
  },
  {
   "cell_type": "markdown",
   "id": "f43c7190",
   "metadata": {},
   "source": [
    "### 3. Write a Python Program to Print the Fibonacci sequence?"
   ]
  },
  {
   "cell_type": "code",
   "execution_count": 15,
   "id": "5c287632",
   "metadata": {},
   "outputs": [
    {
     "name": "stdout",
     "output_type": "stream",
     "text": [
      "Enter the length of fibonacci sequence. Length should be greater than 0.  :10\n",
      "0 1 1 2 3 5 8 13 21 34 "
     ]
    }
   ],
   "source": [
    "fibo_length=int(input(\"Enter the length of fibonacci sequence. Length should be greater than 0.  :\"))\n",
    "\n",
    "if fibo_length==1:\n",
    "    print(0)\n",
    "elif fibo_length==2:\n",
    "    print(0,1)\n",
    "else:\n",
    "    a=0\n",
    "    b=1\n",
    "    for i in range(2,fibo_length+2):\n",
    "        print(a, end=' ')\n",
    "        b,a=b+a,b\n",
    "        "
   ]
  },
  {
   "cell_type": "markdown",
   "id": "15f79e07",
   "metadata": {},
   "source": [
    "### 4. Write a Python Program to Check Armstrong Number?"
   ]
  },
  {
   "cell_type": "code",
   "execution_count": 12,
   "id": "8f528161",
   "metadata": {},
   "outputs": [],
   "source": [
    "import math"
   ]
  },
  {
   "cell_type": "code",
   "execution_count": 26,
   "id": "7f0b567d",
   "metadata": {},
   "outputs": [
    {
     "name": "stdout",
     "output_type": "stream",
     "text": [
      "Enter the number: 153\n",
      "153 is Armstrong number\n"
     ]
    }
   ],
   "source": [
    "# Armstrong number definition:\n",
    "# A positive integer of n digits is called Armstrong number of order n(order is number of digits)\n",
    "# if:\n",
    "# abcd..... = pow(a,n)+pow(b,n)+pow(c,n)+................\n",
    "\n",
    "number=int(input(\"Enter the number: \"))\n",
    "\n",
    "num_digits=math.floor(math.log10(number))+1 # getting the total number of digits\n",
    "\n",
    "temp=number\n",
    "digit_sum=0\n",
    "\n",
    "while temp!=0.0:\n",
    "    digit_sum+=math.pow(temp%10,num_digits) # for number abcd, getting d^num_digits and adding into digit sum \n",
    "    \n",
    "    temp=temp//10 # decreasing temp\n",
    "    \n",
    "\n",
    "if digit_sum==number:\n",
    "    print(\"{} is Armstrong number\".format(number))\n",
    "else:\n",
    "    print(\"{} is not an Armstrong number\".format(number))"
   ]
  },
  {
   "cell_type": "code",
   "execution_count": null,
   "id": "5ba710d2",
   "metadata": {},
   "outputs": [],
   "source": []
  },
  {
   "cell_type": "markdown",
   "id": "b826dc29",
   "metadata": {},
   "source": [
    "### 5. Write a Python Program to Find Armstrong Number in an Interval?"
   ]
  },
  {
   "cell_type": "code",
   "execution_count": 27,
   "id": "ef065b4d",
   "metadata": {},
   "outputs": [],
   "source": [
    "def check_armstrong(number):\n",
    "    num_digits=math.floor(math.log10(number))+1 # getting the total number of digits\n",
    "\n",
    "    temp=number\n",
    "    digit_sum=0\n",
    "\n",
    "    while temp!=0.0:\n",
    "        digit_sum+=math.pow(temp%10,num_digits)\n",
    "\n",
    "        temp=temp//10\n",
    "\n",
    "\n",
    "    return(digit_sum==number)"
   ]
  },
  {
   "cell_type": "code",
   "execution_count": 33,
   "id": "406489a0",
   "metadata": {},
   "outputs": [
    {
     "name": "stdout",
     "output_type": "stream",
     "text": [
      "Enter the lower and upper bound of interval, both inclusive.\n",
      "Enter the lower bound: 100\n",
      "Enter the upper bound: 200\n",
      "153 is an Amstrong Number\n"
     ]
    }
   ],
   "source": [
    "print(\"Enter the lower and upper bound of interval, both inclusive.\")\n",
    "lower_bound=int(input(\"Enter the lower bound: \"))\n",
    "upper_bound=int(input(\"Enter the upper bound: \"))\n",
    "\n",
    "for i in range(lower_bound,upper_bound+1):\n",
    "    if check_armstrong(i):\n",
    "        print(\"{} is an Amstrong Number\".format(i))\n",
    "        break\n",
    "else:\n",
    "    print(\"There is no Armstrong Number in the interval.\")"
   ]
  },
  {
   "cell_type": "markdown",
   "id": "686d35d0",
   "metadata": {},
   "source": [
    "### 6. Write a Python Program to Find the Sum of Natural Numbers?"
   ]
  },
  {
   "cell_type": "code",
   "execution_count": 38,
   "id": "937d0b62",
   "metadata": {},
   "outputs": [
    {
     "name": "stdout",
     "output_type": "stream",
     "text": [
      "Enter the number: 10\n",
      "Sum of 10 Natural Numbers is: \n",
      "55\n"
     ]
    }
   ],
   "source": [
    "n=int(input(\"Enter the number: \"))\n",
    "\n",
    "print(\"Sum of {} Natural Numbers is: \".format(n))\n",
    "print(int((n*(n+1))/2))"
   ]
  },
  {
   "cell_type": "code",
   "execution_count": null,
   "id": "b49a83e8",
   "metadata": {},
   "outputs": [],
   "source": []
  }
 ],
 "metadata": {
  "kernelspec": {
   "display_name": "Python 3",
   "language": "python",
   "name": "python3"
  },
  "language_info": {
   "codemirror_mode": {
    "name": "ipython",
    "version": 3
   },
   "file_extension": ".py",
   "mimetype": "text/x-python",
   "name": "python",
   "nbconvert_exporter": "python",
   "pygments_lexer": "ipython3",
   "version": "3.8.8"
  }
 },
 "nbformat": 4,
 "nbformat_minor": 5
}
