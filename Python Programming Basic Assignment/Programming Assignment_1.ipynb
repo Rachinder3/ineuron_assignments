{
 "cells": [
  {
   "cell_type": "markdown",
   "id": "01523d7d",
   "metadata": {},
   "source": [
    "# Questions"
   ]
  },
  {
   "cell_type": "markdown",
   "id": "41c16c24",
   "metadata": {},
   "source": [
    "<ol>\n",
    "<li>Write a Python program to print \"Hello Python\"</li>\n",
    "<li>Write a Python program to do arithmetical operations addition and division.? </li>\n",
    "<li>Write a Python program to find the area of a triangle? </li>\n",
    "<li>Write a Python program to swap two variables? </li>\n",
    "<li>Write a Python program to generate a random number? </li>\n",
    "    \n",
    "</ol>"
   ]
  },
  {
   "cell_type": "markdown",
   "id": "ba13a7d1",
   "metadata": {},
   "source": [
    "### 1. Write a Python program to print \"Hello Python\""
   ]
  },
  {
   "cell_type": "code",
   "execution_count": 4,
   "id": "18c3fd44",
   "metadata": {},
   "outputs": [
    {
     "name": "stdout",
     "output_type": "stream",
     "text": [
      "Hello Python\n"
     ]
    }
   ],
   "source": [
    "print(\"Hello Python\")"
   ]
  },
  {
   "cell_type": "markdown",
   "id": "7c88e36a",
   "metadata": {},
   "source": [
    "### 2.Write a Python program to do arithmetical operations addition and division.?"
   ]
  },
  {
   "cell_type": "code",
   "execution_count": 5,
   "id": "42ceebfa",
   "metadata": {},
   "outputs": [
    {
     "name": "stdout",
     "output_type": "stream",
     "text": [
      "Enter first number: 4\n",
      "Enter second number: 5\n",
      "Addition result:  9\n",
      "Division result:  0.8\n"
     ]
    }
   ],
   "source": [
    "a=int(input(\"Enter first number: \"))\n",
    "b=int(input(\"Enter second number: \"))\n",
    "\n",
    "print(\"Addition result: \",a+b)\n",
    "print(\"Division result: \", a/b)"
   ]
  },
  {
   "cell_type": "markdown",
   "id": "2de33ba7",
   "metadata": {},
   "source": [
    "### 3. Write a Python program to find the area of a triangle?"
   ]
  },
  {
   "cell_type": "code",
   "execution_count": 11,
   "id": "1d0ee5ff",
   "metadata": {},
   "outputs": [
    {
     "name": "stdout",
     "output_type": "stream",
     "text": [
      "Enter first side: 5\n",
      "Enter second side: 4\n",
      "Enter third side: 7\n",
      "The area of triangle is :  9.797958971132712\n"
     ]
    }
   ],
   "source": [
    "# we will use heron's formula. I am not assuming that input triangle is of any specific type\n",
    "# area of generic triangle: √[s(s-a)(s-b)(s-c)] where s is semi perimeter\n",
    "\n",
    "import math\n",
    "\n",
    "# taking the inputs\n",
    "a= int(input(\"Enter first side: \"))\n",
    "b= int(input(\"Enter second side: \"))\n",
    "c=int(input(\"Enter third side: \"))\n",
    "\n",
    "# if sum of two sides is lesser than or equal to third side, the triangle is invalid\n",
    "if a+b<=c or b+c <=a or a+c<=b:\n",
    "    print(\"Input sides don't form a valid triangle\")\n",
    "else:\n",
    "    \n",
    "    #computing semiparamter\n",
    "    semi_paramter= (a+b+c)/2\n",
    "    \n",
    "    # computing area\n",
    "    area= math.sqrt( semi_paramter * (semi_paramter-a) * (semi_paramter-b)* (semi_paramter-c))\n",
    "\n",
    "    print(\"The area of triangle is : \", area)"
   ]
  },
  {
   "cell_type": "code",
   "execution_count": 7,
   "id": "11f4549a",
   "metadata": {},
   "outputs": [],
   "source": []
  },
  {
   "cell_type": "markdown",
   "id": "73d8cfe9",
   "metadata": {},
   "source": [
    "### 4. Write a Python program to swap two variables?"
   ]
  },
  {
   "cell_type": "code",
   "execution_count": 15,
   "id": "059f535d",
   "metadata": {},
   "outputs": [
    {
     "name": "stdout",
     "output_type": "stream",
     "text": [
      "Enter first input: 7\n",
      "Enter second input: 9\n",
      "--------------------------\n",
      "Before swapping \n",
      "input1 is:  7\n",
      "input2 is :  9\n",
      "-------------------------------\n",
      "After swapping\n",
      "input1 is:  9\n",
      "input2 is :  7\n",
      "-----------------------------------\n"
     ]
    }
   ],
   "source": [
    "# taking inputs\n",
    "input1=input(\"Enter first input: \") \n",
    "input2=input(\"Enter second input: \")\n",
    "\n",
    "# before swapping\n",
    "print(\"--------------------------\")\n",
    "print(\"Before swapping \")\n",
    "print(\"input1 is: \",input1)\n",
    "print(\"input2 is : \",input2)\n",
    "print(\"-------------------------------\")\n",
    "\n",
    "# swapping the numbers\n",
    "input1,input2=input2,input1  \n",
    "\n",
    "\n",
    "# after swapping\n",
    "print(\"After swapping\")\n",
    "print(\"input1 is: \",input1)\n",
    "print(\"input2 is : \",input2)\n",
    "print(\"-----------------------------------\")"
   ]
  },
  {
   "cell_type": "markdown",
   "id": "ab9fe54e",
   "metadata": {},
   "source": [
    "### Write a Python program to generate a random number?"
   ]
  },
  {
   "cell_type": "code",
   "execution_count": 16,
   "id": "217f4af1",
   "metadata": {},
   "outputs": [],
   "source": [
    "# we will use random module"
   ]
  },
  {
   "cell_type": "code",
   "execution_count": 17,
   "id": "aadbc1e1",
   "metadata": {},
   "outputs": [],
   "source": [
    "import random"
   ]
  },
  {
   "cell_type": "code",
   "execution_count": 24,
   "id": "23e46c39",
   "metadata": {},
   "outputs": [
    {
     "name": "stdout",
     "output_type": "stream",
     "text": [
      "Our random number is:  0.5814899481184619\n"
     ]
    }
   ],
   "source": [
    "# we use random.random(). It generates random numbers in the range b/w 0 and 1.\n",
    "print(\"Our random number is: \",random.random())"
   ]
  },
  {
   "cell_type": "code",
   "execution_count": null,
   "id": "dc1dbcdf",
   "metadata": {},
   "outputs": [],
   "source": []
  },
  {
   "cell_type": "code",
   "execution_count": null,
   "id": "d73ecc79",
   "metadata": {},
   "outputs": [],
   "source": []
  }
 ],
 "metadata": {
  "kernelspec": {
   "display_name": "Python 3",
   "language": "python",
   "name": "python3"
  },
  "language_info": {
   "codemirror_mode": {
    "name": "ipython",
    "version": 3
   },
   "file_extension": ".py",
   "mimetype": "text/x-python",
   "name": "python",
   "nbconvert_exporter": "python",
   "pygments_lexer": "ipython3",
   "version": "3.8.8"
  }
 },
 "nbformat": 4,
 "nbformat_minor": 5
}
