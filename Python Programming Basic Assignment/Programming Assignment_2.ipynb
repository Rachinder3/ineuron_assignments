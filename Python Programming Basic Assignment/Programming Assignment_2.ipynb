{
 "cells": [
  {
   "cell_type": "markdown",
   "id": "d27951a7",
   "metadata": {},
   "source": [
    "# Questions"
   ]
  },
  {
   "cell_type": "markdown",
   "id": "9f5db76e",
   "metadata": {},
   "source": [
    "<ol>\n",
    "    <li>Write a Python program to convert kilometers to miles?</li>\n",
    "    <li>Write a Python program to convert Celsius to Fahrenheit? </li>\n",
    "    <li>Write a Python program to display calendar?</li>\n",
    "    <li>Write a Python program to solve quadratic equation?</li>\n",
    "    <li>Write a Python program to swap two variables without temp variable?</li>\n",
    "</ol>"
   ]
  },
  {
   "cell_type": "markdown",
   "id": "0dc5efe6",
   "metadata": {},
   "source": [
    "### 1. Write a Python program to convert kilometers to miles?"
   ]
  },
  {
   "cell_type": "code",
   "execution_count": 1,
   "id": "1e6dfdd9",
   "metadata": {},
   "outputs": [
    {
     "name": "stdout",
     "output_type": "stream",
     "text": [
      "Enter the kilo meters: 5\n",
      "Distance in miles:  3.106855\n"
     ]
    }
   ],
   "source": [
    "# 1 km = 0.621371 miles\n",
    "\n",
    "km= float(input(\"Enter the kilo meters: \"))\n",
    "\n",
    "miles = 0.621371 * km  # calculating distance in miles with the formula\n",
    "\n",
    "print(\"Distance in miles: \", miles)"
   ]
  },
  {
   "cell_type": "markdown",
   "id": "26719a19",
   "metadata": {},
   "source": [
    "### 2. Write a Python program to convert Celsius to Fahrenheit?"
   ]
  },
  {
   "cell_type": "code",
   "execution_count": 2,
   "id": "eef223b9",
   "metadata": {},
   "outputs": [
    {
     "name": "stdout",
     "output_type": "stream",
     "text": [
      "Enter temperature in celsius: 56\n",
      "Temperature in fahrenheit is:  132.8\n"
     ]
    }
   ],
   "source": [
    "# formula: (C * 9/5) + 32\n",
    "\n",
    "celsius_temp = float(input(\"Enter temperature in celsius: \"))\n",
    "fahrenheit_temp= (celsius_temp  * 9/5) +32   # calculating temperature in farheneit with the help of formula\n",
    "\n",
    "print(\"Temperature in fahrenheit is: \", fahrenheit_temp)"
   ]
  },
  {
   "cell_type": "markdown",
   "id": "4d37beb0",
   "metadata": {},
   "source": [
    "### 3. Write a Python program to display calendar?"
   ]
  },
  {
   "cell_type": "code",
   "execution_count": 9,
   "id": "2f697c43",
   "metadata": {},
   "outputs": [
    {
     "name": "stdout",
     "output_type": "stream",
     "text": [
      "Enter the year. Ex: 2021. \n",
      " 2002\n",
      "Enter the month. Ex: 5. \n",
      "7\n",
      "     July 2002\n",
      "Mo Tu We Th Fr Sa Su\n",
      " 1  2  3  4  5  6  7\n",
      " 8  9 10 11 12 13 14\n",
      "15 16 17 18 19 20 21\n",
      "22 23 24 25 26 27 28\n",
      "29 30 31\n",
      "\n"
     ]
    }
   ],
   "source": [
    "# we will use calendar module\n",
    "import calendar\n",
    "\n",
    "# we will display the calender for a particular month for a particular year\n",
    "year=int(input(\"Enter the year. Ex: 2021. \\n \"))\n",
    "month= int(input(\"Enter the month. Ex: 5. \\n\"))\n",
    "\n",
    "print(calendar.month(year,month))"
   ]
  },
  {
   "cell_type": "markdown",
   "id": "5e79671c",
   "metadata": {},
   "source": [
    "### 4. Write a Python program to solve quadratic equation?"
   ]
  },
  {
   "cell_type": "code",
   "execution_count": 16,
   "id": "47d7594c",
   "metadata": {},
   "outputs": [
    {
     "name": "stdout",
     "output_type": "stream",
     "text": [
      "Generic equation : a*x^2+b*x+c\n",
      "Enter a: 2\n",
      "Enter b: 1\n",
      "Enter c: 5\n",
      "---------------------------------------\n",
      "root1 of the eqn is:  (-1+6.244997998398398j)\n",
      "root2 of the eqn is:  (-1-6.244997998398398j)\n"
     ]
    }
   ],
   "source": [
    "# roots of quadratic equation :   (-b ± √ (b² - 4ac) )/2a\n",
    "# we will assume that our quadratic equation is of the form: \n",
    "#  a*x^2+b*x+c and we will take a, b and c as inputs\n",
    "\n",
    "# we use math module\n",
    "# we use cmath for complex roots\n",
    "\n",
    "# explanation: math.sqrt raises an exception for complex numbers.\n",
    "# Hence we have to use cmath for complex roots\n",
    "\n",
    "\n",
    "import math\n",
    "import cmath\n",
    "\n",
    "print(\"Generic equation : a*x^2+b*x+c\")\n",
    "a= int(input(\"Enter a: \"))\n",
    "b=int(input(\"Enter b: \"))\n",
    "c= int(input(\"Enter c: \"))\n",
    "\n",
    "try:\n",
    "    root1 =  (-1*b + math.sqrt(b**2 - 4 *a *c)) / 2*a\n",
    "    root2 = (-1*b - math.sqrt(b**2 - 4 *a *c)) / 2*a\n",
    "except:\n",
    "    root1 =  (-1*b + cmath.sqrt(b**2 - 4 *a *c)) / 2*a\n",
    "    root2 = (-1*b - cmath.sqrt(b**2 - 4 *a *c)) / 2*a\n",
    "    \n",
    "    \n",
    "print(\"---------------------------------------\")\n",
    "print(\"root1 of the eqn is: \", root1)\n",
    "print(\"root2 of the eqn is: \", root2)"
   ]
  },
  {
   "cell_type": "markdown",
   "id": "b6acd78a",
   "metadata": {},
   "source": [
    "### 5. Write a Python program to swap two variables without temp variable?"
   ]
  },
  {
   "cell_type": "code",
   "execution_count": 17,
   "id": "473bd71f",
   "metadata": {},
   "outputs": [
    {
     "name": "stdout",
     "output_type": "stream",
     "text": [
      "Enter first input: 2\n",
      "Enter second input: 8\n",
      "--------------------------\n",
      "Before swapping \n",
      "input1 is:  2\n",
      "input2 is :  8\n",
      "-------------------------------\n",
      "After swapping\n",
      "input1 is:  8\n",
      "input2 is :  2\n",
      "-----------------------------------\n"
     ]
    }
   ],
   "source": [
    "# taking inputs\n",
    "input1=input(\"Enter first input: \") \n",
    "input2=input(\"Enter second input: \")\n",
    "\n",
    "# before swapping\n",
    "print(\"--------------------------\")\n",
    "print(\"Before swapping \")\n",
    "print(\"input1 is: \",input1)\n",
    "print(\"input2 is : \",input2)\n",
    "print(\"-------------------------------\")\n",
    "\n",
    "# swapping the numbers\n",
    "input1,input2=input2,input1  \n",
    "\n",
    "\n",
    "# after swapping\n",
    "print(\"After swapping\")\n",
    "print(\"input1 is: \",input1)\n",
    "print(\"input2 is : \",input2)\n",
    "print(\"-----------------------------------\")"
   ]
  },
  {
   "cell_type": "code",
   "execution_count": null,
   "id": "4497ed70",
   "metadata": {},
   "outputs": [],
   "source": []
  }
 ],
 "metadata": {
  "kernelspec": {
   "display_name": "Python 3",
   "language": "python",
   "name": "python3"
  },
  "language_info": {
   "codemirror_mode": {
    "name": "ipython",
    "version": 3
   },
   "file_extension": ".py",
   "mimetype": "text/x-python",
   "name": "python",
   "nbconvert_exporter": "python",
   "pygments_lexer": "ipython3",
   "version": "3.8.8"
  }
 },
 "nbformat": 4,
 "nbformat_minor": 5
}
