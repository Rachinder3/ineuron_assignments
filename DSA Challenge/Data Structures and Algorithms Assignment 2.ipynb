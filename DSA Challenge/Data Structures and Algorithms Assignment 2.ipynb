{
 "cells": [
  {
   "cell_type": "markdown",
   "id": "21247295",
   "metadata": {},
   "source": [
    "# Questions"
   ]
  },
  {
   "cell_type": "markdown",
   "id": "aa471ee2",
   "metadata": {},
   "source": [
    "<ol>\n",
    "<li>Use examples to explain the sorting algorithms.</li>\n",
    "\n",
    "<li>What Are the Benefits of Stacks?</li>\n",
    "\n",
    "<li>What is the difference between a stack and a queue?</li>\n",
    "\n",
    "<li>What are the different forms of queues?</li>\n",
    "\n",
    "<li>Why should I use Stack or Queue data structures instead of Arrays or Lists, and when should I use them?</li>\n",
    "\n",
    "<li>What is the significance of Stack being a recursive data structure?</li>\n",
    "\n",
    "</ol>"
   ]
  },
  {
   "cell_type": "markdown",
   "id": "cdf8a82c",
   "metadata": {},
   "source": [
    "# Use examples to explain the sorting algorithms."
   ]
  },
  {
   "cell_type": "markdown",
   "id": "7f01b96a",
   "metadata": {},
   "source": [
    "Sorting algorithms help us in arranging the elements of a collection in some order. This can either be ascending order or descending order.\n",
    "\n",
    "For example, suppose we have a list with elements:\n",
    "\n",
    "a = [4,5,3,6,1,2]\n",
    "\n",
    "When we sort the array in ascending order, a will look like\n",
    "\n",
    "a = [1,2,3,4,5,6]\n",
    "\n"
   ]
  },
  {
   "cell_type": "markdown",
   "id": "9c713af6",
   "metadata": {},
   "source": [
    "There are many different Sorting Algorithms available.\n",
    "\n",
    "Let's discuss a few"
   ]
  },
  {
   "cell_type": "markdown",
   "id": "c259c1d9",
   "metadata": {},
   "source": [
    "## Bubble Sort"
   ]
  },
  {
   "cell_type": "markdown",
   "id": "edbf4a11",
   "metadata": {},
   "source": [
    "#### Description: \n",
    "A very simple algorithm. If there are n elements in the collection, we run n-1 passes. In each pass, we iterate from start to end - i, where i is the number of passes already done. While iterating we compare 2 neighbour elements. If the order of elements is wrong, we swap the elements. What this does is, after each iteration, the biggest element left under consideration moves to its correct position"
   ]
  },
  {
   "cell_type": "markdown",
   "id": "bd3bdad2",
   "metadata": {},
   "source": [
    "#### Implementation"
   ]
  },
  {
   "cell_type": "code",
   "execution_count": 1,
   "id": "d4bf63ca",
   "metadata": {},
   "outputs": [],
   "source": [
    "# sorting in ascending order\n",
    "def bubble_sort(arr):\n",
    "    \n",
    "    n = len(arr)\n",
    "    \n",
    "    for i in range(n):  # n-1 passes\n",
    "        for j in range(n-i-1):  # one single pass\n",
    "            if arr[j] > arr[j+1]:  # order is wrong, hence swap\n",
    "                arr[j],arr[j+1] = arr[j+1],arr[j]\n",
    "        \n",
    "                \n",
    "        \n",
    "    "
   ]
  },
  {
   "cell_type": "code",
   "execution_count": 2,
   "id": "a2539bd4",
   "metadata": {},
   "outputs": [],
   "source": [
    "arr = [5,4,3,2,1]"
   ]
  },
  {
   "cell_type": "code",
   "execution_count": 3,
   "id": "384d4ad6",
   "metadata": {},
   "outputs": [],
   "source": [
    "bubble_sort(arr)"
   ]
  },
  {
   "cell_type": "code",
   "execution_count": 4,
   "id": "bd6fff94",
   "metadata": {},
   "outputs": [
    {
     "data": {
      "text/plain": [
       "[1, 2, 3, 4, 5]"
      ]
     },
     "execution_count": 4,
     "metadata": {},
     "output_type": "execute_result"
    }
   ],
   "source": [
    "arr  # sorted correctly"
   ]
  },
  {
   "cell_type": "markdown",
   "id": "cbc3e050",
   "metadata": {},
   "source": [
    "Explanation of the algorithm:\n",
    "    \n",
    "Initially we had:\n",
    "\n",
    "5 4 3 2 1\n",
    "\n",
    "------------------------------------------\n",
    "\n",
    "first pass:\n",
    "\n",
    "1)  We compare 5 and 4, the order is wrong, hence swap. Array looks like:\n",
    "\n",
    "4 5 3 2 1\n",
    "\n",
    "2)  We compare 5 and 3, the order is wrong, hence swap. Array looks like:\n",
    "\n",
    "4 3 5 2 1\n",
    "\n",
    "3)  We compare 5 and 2, the order is wrong, hence swap. Array looks like:\n",
    "\n",
    "4 3 2 5 1\n",
    "\n",
    "4)  We compare 5 and 1, the order is wrong, hence swap. Array looks like:\n",
    "\n",
    "4 3 2 1 5\n",
    "\n",
    "First Pass done, 5 is at its correct position\n",
    "\n",
    "----------------------------------------\n",
    "\n",
    "second pass:\n",
    "\n",
    "1)  We compare 4 and 3, the order is wrong, hence swap. Array looks like:\n",
    "\n",
    "3 4 2 1 5\n",
    "\n",
    "\n",
    "2)  We compare 4 and 2, the order is wrong, hence swap. Array looks like:\n",
    "\n",
    "3 2 4 1 5\n",
    "\n",
    "\n",
    "3)  We compare 4 and 1, the order is wrong, hence swap. Array looks like:\n",
    "\n",
    "3 2 1 4 5\n",
    "\n",
    "second pass done, 4 is at its correct position\n",
    "\n",
    "---------------------------------------------\n",
    "\n",
    "third pass:\n",
    "\n",
    "\n",
    "1)  We compare 3 and 2, the order is wrong, hence swap. Array looks like:\n",
    "\n",
    "2 3 1 4 5\n",
    "\n",
    "2)  We compare 3 and 1, the order is wrong, hence swap. Array looks like:\n",
    "\n",
    "2 1 3 4 5\n",
    "\n",
    "third pass is done, 3 is at its correct position\n",
    "\n",
    "---------------------------------------------\n",
    "\n",
    "Fourth pass:\n",
    "\n",
    "\n",
    "1)  We compare 2 and 1, the order is wrong, hence swap. Array looks like:\n",
    "\n",
    "1 2 3 4 5\n",
    "\n",
    "Fourth pass done. 2 at its correct position.\n",
    "\n",
    "------------------------------------------------\n",
    "\n",
    "Our list is completely sorted"
   ]
  },
  {
   "cell_type": "markdown",
   "id": "8bb621c4",
   "metadata": {},
   "source": [
    "#### Time Complexity "
   ]
  },
  {
   "cell_type": "markdown",
   "id": "2c26c8bf",
   "metadata": {},
   "source": [
    "Time Complexity is O(n^2) in both best and worst case"
   ]
  },
  {
   "cell_type": "markdown",
   "id": "419a622e",
   "metadata": {},
   "source": [
    "## Selection Sort"
   ]
  },
  {
   "cell_type": "markdown",
   "id": "872ce6a1",
   "metadata": {},
   "source": [
    "#### Description\n",
    "\n",
    "Divide the array in 2 parts: unsorted and sorted. Keep sorted array in the begining. Mantain the size of sorted array.\n",
    "\n",
    "We find the minimum element in the unsorted array. We put that in the sorted array at the end."
   ]
  },
  {
   "cell_type": "markdown",
   "id": "8f0006a3",
   "metadata": {},
   "source": [
    "#### Implementation"
   ]
  },
  {
   "cell_type": "code",
   "execution_count": 5,
   "id": "6054c9da",
   "metadata": {},
   "outputs": [],
   "source": [
    "import math"
   ]
  },
  {
   "cell_type": "code",
   "execution_count": 6,
   "id": "a20321ff",
   "metadata": {},
   "outputs": [],
   "source": [
    "def selection_sort(arr):\n",
    "    \n",
    "    \n",
    "    \n",
    "    for i in range(len(arr)): # i stores the size of sorted list\n",
    "        \n",
    "        min_element_index = -1\n",
    "        min_element = math.inf\n",
    "        # find smallest element in unsorted list\n",
    "        for j in range(i,len(arr)):\n",
    "            if arr[j] < min_element:\n",
    "                min_element = arr[j]\n",
    "                min_element_index = j\n",
    "                \n",
    "        # put the smallest element in the sorted array\n",
    "        \n",
    "        arr[i], arr[min_element_index] = arr[min_element_index], arr[i]\n",
    "            \n",
    "    "
   ]
  },
  {
   "cell_type": "code",
   "execution_count": 7,
   "id": "4d37d32c",
   "metadata": {},
   "outputs": [],
   "source": [
    "arr = [5,4,3,2,1]"
   ]
  },
  {
   "cell_type": "code",
   "execution_count": 8,
   "id": "63d83e71",
   "metadata": {},
   "outputs": [],
   "source": [
    "selection_sort(arr)"
   ]
  },
  {
   "cell_type": "code",
   "execution_count": 9,
   "id": "25396e39",
   "metadata": {},
   "outputs": [
    {
     "data": {
      "text/plain": [
       "[1, 2, 3, 4, 5]"
      ]
     },
     "execution_count": 9,
     "metadata": {},
     "output_type": "execute_result"
    }
   ],
   "source": [
    "arr # sorted correctly"
   ]
  },
  {
   "cell_type": "markdown",
   "id": "c27f076c",
   "metadata": {},
   "source": [
    "#### Explanation of algorithm"
   ]
  },
  {
   "cell_type": "markdown",
   "id": "5377a272",
   "metadata": {},
   "source": [
    "Initial array:\n",
    "\n",
    "[5,4,3,2,1]\n",
    "\n",
    "---------------------\n",
    "\n",
    "1st pass\n",
    "\n",
    "size of sorted array: 0\n",
    "start index of unsorted array: 0\n",
    "\n",
    "min_element = 1\n",
    "\n",
    "After min_element in position:\n",
    "\n",
    "[1,4,3,2,5]\n",
    "\n",
    "--------------------\n",
    "\n",
    "2nd pass\n",
    "\n",
    "size of sorted array: 1\n",
    "start index of unsorted array: 1\n",
    "\n",
    "min_element = 2\n",
    "\n",
    "After min_element in position:\n",
    "\n",
    "[1,2,3,4,5]\n",
    "\n",
    "-----------------------\n",
    "\n",
    "3rd pass\n",
    "\n",
    "size of sorted array: 2\n",
    "start index of unsorted array: 2\n",
    "\n",
    "min_element = 3\n",
    "\n",
    "After min_element in position:\n",
    "\n",
    "[1,2,3,4,5]\n",
    "\n",
    "-----------------------------\n",
    "\n",
    "4th pass\n",
    "\n",
    "size of sorted array: 3\n",
    "start index of unsorted array: 3\n",
    "\n",
    "min_element = 4\n",
    "\n",
    "After min_element in position:\n",
    "\n",
    "[1,2,3,4,5]\n",
    "\n",
    "-------------------------------------\n",
    "\n",
    "5th pass\n",
    "\n",
    "size of sorted array: 4\n",
    "start index of unsorted array: 4\n",
    "\n",
    "min_element = 5\n",
    "\n",
    "After min_element in position:\n",
    "\n",
    "[1,2,3,4,5]"
   ]
  },
  {
   "cell_type": "markdown",
   "id": "d475605d",
   "metadata": {},
   "source": [
    "#### Time Complexity"
   ]
  },
  {
   "cell_type": "markdown",
   "id": "344ca65a",
   "metadata": {},
   "source": [
    "Time Complexity is O(n^2) for both worst case and best case"
   ]
  },
  {
   "cell_type": "markdown",
   "id": "b36ba232",
   "metadata": {},
   "source": [
    "## Insertion Sort"
   ]
  },
  {
   "cell_type": "markdown",
   "id": "685cb4e7",
   "metadata": {},
   "source": [
    "#### Description:\n",
    "\n",
    "Divide the array in sorted and unsorted array.\n",
    "The sorted array is at the front and the unsorted array is at the back.\n",
    "\n",
    "Initially there is one element in the sorted array. \n",
    "One by one , we insert elements in the sorted part, and ensure that the entered element is at its correct position. We do this via comparing current element and elements in sorted array starting from end. If order is wrong, swap. If the order is correct, we can move ahead."
   ]
  },
  {
   "cell_type": "markdown",
   "id": "05674895",
   "metadata": {},
   "source": [
    "#### Implementation"
   ]
  },
  {
   "cell_type": "code",
   "execution_count": 10,
   "id": "e0c0ff03",
   "metadata": {},
   "outputs": [],
   "source": [
    "def insertion_sort(arr):\n",
    "    \n",
    "    \n",
    "    for i in range(1,len(arr)):  # going through the array\n",
    "        \n",
    "        j = i\n",
    "        \n",
    "        while j>0:  # going back in the array, \n",
    "            if arr[j] < arr[j-1]:   # swap if order is wrong\n",
    "                arr[j],arr[j-1]=arr[j-1],arr[j]\n",
    "                j-=1\n",
    "            else:  # break if order is right\n",
    "                break"
   ]
  },
  {
   "cell_type": "code",
   "execution_count": 11,
   "id": "38d5d7b3",
   "metadata": {},
   "outputs": [],
   "source": [
    "arr = [5,4,3,2,1]"
   ]
  },
  {
   "cell_type": "code",
   "execution_count": 12,
   "id": "275f2285",
   "metadata": {},
   "outputs": [],
   "source": [
    "insertion_sort(arr)"
   ]
  },
  {
   "cell_type": "code",
   "execution_count": 13,
   "id": "92570750",
   "metadata": {},
   "outputs": [
    {
     "data": {
      "text/plain": [
       "[1, 2, 3, 4, 5]"
      ]
     },
     "execution_count": 13,
     "metadata": {},
     "output_type": "execute_result"
    }
   ],
   "source": [
    "arr"
   ]
  },
  {
   "cell_type": "markdown",
   "id": "7d27107b",
   "metadata": {},
   "source": [
    "#### Explanation of Code\n",
    "\n",
    "Initially array:\n",
    "\n",
    "[5,4,3,2,1]\n",
    "\n",
    "-----------\n",
    "1st pass \n",
    "\n",
    "arr looks like \n",
    "\n",
    "[4,5,3,2,1]\n",
    "\n",
    "--------------\n",
    "\n",
    "2nd pass\n",
    "\n",
    "arr looks like\n",
    "\n",
    "[3,4,5,2,1]\n",
    "\n",
    "\n",
    "-------------\n",
    "\n",
    "3rd pass\n",
    "\n",
    "arr looks like\n",
    "\n",
    "[2,3,4,5,1]\n",
    "\n",
    "--------------\n",
    "\n",
    "4th pass:\n",
    "\n",
    "arr looks like\n",
    "\n",
    "[1,2,3,4,5]"
   ]
  },
  {
   "cell_type": "markdown",
   "id": "b1ed3303",
   "metadata": {},
   "source": [
    "#### Time Complexity\n",
    "\n",
    "The Time Complexity at worst case is O(n^2) but in best case, the Time Complexity is O(n)"
   ]
  },
  {
   "cell_type": "markdown",
   "id": "88d96beb",
   "metadata": {},
   "source": [
    "## Merge Sort"
   ]
  },
  {
   "cell_type": "markdown",
   "id": "6efa3a66",
   "metadata": {},
   "source": [
    "#### Description\n",
    "\n",
    "One of the best algorithms. It is a Divide and Conquer algorithm.\n",
    "Recursively break the list from the middle.\n",
    "Break the list till we have a single element or no element present in each smaller list.\n",
    "Now each of these smaller lists are sorted as they only have maximum of 1 element.\n",
    "\n",
    "We can combine these sorted arrays recursively, to get completely sorted array."
   ]
  },
  {
   "cell_type": "markdown",
   "id": "6f55f6c5",
   "metadata": {},
   "source": [
    "#### Implementation"
   ]
  },
  {
   "cell_type": "code",
   "execution_count": 14,
   "id": "d987e105",
   "metadata": {},
   "outputs": [],
   "source": [
    "def merge(arr, si ,ei):\n",
    "    \n",
    "    midpt = (si+ei )//2\n",
    "    \n",
    "    left = []  # arr to store left side \n",
    "    right = [] # arr to store right side\n",
    "    \n",
    "   \n",
    "    for i in range(si, midpt+1):  # copying to the left array\n",
    "        \n",
    "        left.append(arr[i])\n",
    "        \n",
    "    \n",
    "    \n",
    "    for i in range(midpt+1,ei+1):  # copying to the right array\n",
    "        right.append(arr[i])\n",
    "        \n",
    "        \n",
    "    # merging the 2 arrays\n",
    "    \n",
    "    i = 0\n",
    "    j = 0\n",
    "    k = si\n",
    "    size_l =len(left)\n",
    "    size_r = len(right)\n",
    "    \n",
    "    while i< size_l and j < size_r:   # merging the two sorted arrays\n",
    "        if left[i] <= right[j]:\n",
    "            arr[k] = left[i]\n",
    "            i+=1\n",
    "        else:\n",
    "            arr[k] = right[j]\n",
    "            j+=1\n",
    "        \n",
    "        k+=1\n",
    "        \n",
    "    \n",
    "    while i<size_l:\n",
    "        arr[k] = left[i]\n",
    "        k+=1\n",
    "        i+=1\n",
    "    \n",
    "    while j<size_r:\n",
    "        arr[k] = right[j]\n",
    "        k+=1\n",
    "        j+=1\n",
    "        \n",
    "    \n",
    "     "
   ]
  },
  {
   "cell_type": "code",
   "execution_count": 15,
   "id": "b9f43d58",
   "metadata": {},
   "outputs": [],
   "source": [
    "def merge_sort(arr, si, ei):\n",
    "    if si >= ei:  \n",
    "        return\n",
    "    \n",
    "    midpt =  (si + ei) //2  # getting the midpt\n",
    "    \n",
    "    merge_sort(arr,si,midpt) # recursive call on the left hand side of arr\n",
    "    merge_sort(arr,midpt+1,ei) # recursive call on the right hand side of arr\n",
    "    merge(arr,si,ei) # merge on the 2 arrays\n",
    "    \n",
    "    "
   ]
  },
  {
   "cell_type": "code",
   "execution_count": 16,
   "id": "3ff79400",
   "metadata": {},
   "outputs": [],
   "source": [
    "arr = [5,4,3,2,1]"
   ]
  },
  {
   "cell_type": "code",
   "execution_count": 17,
   "id": "c8dbed2f",
   "metadata": {},
   "outputs": [],
   "source": [
    "merge_sort(arr, 0, len(arr)-1)"
   ]
  },
  {
   "cell_type": "code",
   "execution_count": 18,
   "id": "7c88e0b8",
   "metadata": {},
   "outputs": [
    {
     "data": {
      "text/plain": [
       "[1, 2, 3, 4, 5]"
      ]
     },
     "execution_count": 18,
     "metadata": {},
     "output_type": "execute_result"
    }
   ],
   "source": [
    "arr"
   ]
  },
  {
   "cell_type": "markdown",
   "id": "8a9957d4",
   "metadata": {},
   "source": [
    "#### Diagram"
   ]
  },
  {
   "cell_type": "markdown",
   "id": "eabae049",
   "metadata": {},
   "source": [
    "             5 4 3 2 1\n",
    "          /             \\\n",
    "      5  4  3         2    1\n",
    "      /     \\            |\n",
    "    5  4     3         1  2\n",
    "     |       |           |\n",
    "    4  5     3         1  2\n",
    "      \\      /           |\n",
    "      3  4  5          1  2\n",
    "           \\            /\n",
    "              1 2 3 4 5\n",
    "           "
   ]
  },
  {
   "cell_type": "markdown",
   "id": "8b08d978",
   "metadata": {},
   "source": [
    "#### Explanation"
   ]
  },
  {
   "cell_type": "markdown",
   "id": "0e9940cc",
   "metadata": {},
   "source": [
    "Initially the array is [5,4,3,2,1]\n",
    "\n",
    "We break the array in [5,4,3]  and [2,1]\n",
    "\n",
    "Working on [5, 4, 3]:\n",
    "        After breaking, we get [5,4] and [3]\n",
    "        \n",
    "        Working on [5, 4]:\n",
    "        \n",
    "            After breaking, we get [5] and [4]\n",
    "        \n",
    "            Now we can merge these two arrays as these individual arrays are sorted. We get [4, 5]\n",
    "        \n",
    "        Working on [3]:\n",
    "            [3] is single and already sorted\n",
    "            \n",
    "            \n",
    "            \n",
    "       We can merge [4, 5] and [3]. We get [3 , 4, 5]\n",
    "\n",
    "Working on [2 , 1]:\n",
    "        After breaking, we get [2] and [1].\n",
    "        \n",
    "        These are sorted\n",
    "        We can combine the 2 arrays:\n",
    "        We get [1,2]\n",
    "        \n",
    "Combining the two arrays, we get:\n",
    "\n",
    "[1,2,3,4,5]\n",
    "        "
   ]
  },
  {
   "cell_type": "markdown",
   "id": "34b2044e",
   "metadata": {},
   "source": [
    "#### Time Complexity"
   ]
  },
  {
   "cell_type": "markdown",
   "id": "49825640",
   "metadata": {},
   "source": [
    "The Time Complexity is O(n*log(n)) and space complexity is O(n)"
   ]
  },
  {
   "cell_type": "markdown",
   "id": "e492064c",
   "metadata": {},
   "source": [
    "## Quick Sort"
   ]
  },
  {
   "cell_type": "markdown",
   "id": "7791119a",
   "metadata": {},
   "source": [
    "#### Description\n",
    "\n",
    "Like Merge Sort, this is a divide and conquer algorithm.\n",
    "\n",
    "This algorithm picks an element as pivot and partitions the element around the pivot. \n",
    "Then we recursively call Merge Sort on these partitions.\n",
    "\n",
    "We will pick the first element as pivot."
   ]
  },
  {
   "cell_type": "markdown",
   "id": "3a8a0727",
   "metadata": {},
   "source": [
    "#### Implementation"
   ]
  },
  {
   "cell_type": "code",
   "execution_count": 19,
   "id": "0e44637d",
   "metadata": {},
   "outputs": [],
   "source": [
    "def partition(arr, si, ei):\n",
    "    \n",
    "    pivot = arr[si] # storing the pivot element\n",
    "    \n",
    "    small_elements = 0 \n",
    "    \n",
    "    for i in range(si+1,ei+1):  # getting number of elements, smaller than pivot\n",
    "        if pivot >= arr[i]:\n",
    "            small_elements+=1\n",
    "            \n",
    "    arr[si],arr[si+small_elements] = arr[si+small_elements], arr[si]\n",
    "    \n",
    "    i = si\n",
    "    j = ei\n",
    "    \n",
    "    while i < j:\n",
    "        if pivot >= arr[i]:\n",
    "            i+=1\n",
    "        \n",
    "        elif pivot < arr[j]:\n",
    "            j-=1\n",
    "            \n",
    "        else:\n",
    "            arr[i],arr[j] = arr[j], arr[i]\n",
    "            \n",
    "    return small_elements+si\n",
    "    "
   ]
  },
  {
   "cell_type": "code",
   "execution_count": 20,
   "id": "99673ba6",
   "metadata": {},
   "outputs": [],
   "source": [
    "def quick_sort(arr,si,ei):\n",
    "    if si>=ei:\n",
    "        return\n",
    "    \n",
    "    pi = partition(arr,si,ei) # get the index, around which we want to partition\n",
    "    \n",
    "    quick_sort(arr,si,pi-1)\n",
    "    quick_sort(arr,pi+1,ei)"
   ]
  },
  {
   "cell_type": "code",
   "execution_count": 21,
   "id": "d3bf4b4e",
   "metadata": {},
   "outputs": [],
   "source": [
    "arr = [5,4,3,1,2]"
   ]
  },
  {
   "cell_type": "code",
   "execution_count": 22,
   "id": "c578377a",
   "metadata": {},
   "outputs": [],
   "source": [
    "quick_sort(arr,0,len(arr)-1) # sorting the array correctly"
   ]
  },
  {
   "cell_type": "code",
   "execution_count": 23,
   "id": "2189e6c5",
   "metadata": {},
   "outputs": [
    {
     "data": {
      "text/plain": [
       "[1, 2, 3, 4, 5]"
      ]
     },
     "execution_count": 23,
     "metadata": {},
     "output_type": "execute_result"
    }
   ],
   "source": [
    "arr "
   ]
  },
  {
   "cell_type": "markdown",
   "id": "49505b91",
   "metadata": {},
   "source": [
    "#### Time Complexity"
   ]
  },
  {
   "cell_type": "markdown",
   "id": "c0142e86",
   "metadata": {},
   "source": [
    "Time Complexity is O(n*log(n)) in best case but in worst case, Time Complexity is O(n^2). Space complexity is O(1)"
   ]
  },
  {
   "cell_type": "markdown",
   "id": "7fd2e541",
   "metadata": {},
   "source": [
    "# 2. What Are the Benefits of Stacks?"
   ]
  },
  {
   "cell_type": "markdown",
   "id": "5cf75e95",
   "metadata": {},
   "source": [
    "Stack is a Linear, Abstract Data Structure which implements the LIFO (Last In First Out) or FILO (First In Last Out) functionality.\n",
    "\n",
    "--------------\n",
    "\n",
    "What are Abstract Data Structures ?? \n",
    "\n",
    "Those Data Structures that have some order, in which elements are inserted or removed from them are called as Abstract Data Structures. \n",
    "\n",
    "What are Linear Data Structures??\n",
    "\n",
    "Linear Data Structures have data elements connected to each other so that elements are arranged in a sequential manner and each elements is connected to the element in front of it and behind it. This way, the data structure can be traversed in single run. \n",
    "\n",
    "----------\n",
    "\n",
    "Stack is one such Linear, Abstract Data Structure. It implements LIFO or FILO pattern. \n",
    "\n",
    "The element that is inserted last, is removed first in stack. Or conversely\n",
    "the element that is inserted first, is removed last.\n",
    "\n",
    "\n",
    "------------\n",
    "\n",
    "There are many benifits of Stacks and they are used in many places.\n",
    "\n",
    "Some examples are:\n",
    "\n",
    "\n",
    "1) Call stack: The call stack that we have in our computers is implemented via stack only. The call stack decides which instruction or which sub routine is to be executed next.\n",
    "\n",
    "............................................\n",
    "\n",
    "2) Evaluation of expressions: Stacks are used for evaluation of any given expression. For example:  (1+2) * 3 / 4. The evaluation will happen with the help of stacks.\n",
    "\n",
    "............................................\n",
    "\n",
    "3) Conversion from one form of expression to another: The same expression can be represented in more than one forms.\n",
    "\n",
    "For example, if we have an expression:   (1+2)*3\n",
    "\n",
    "Its inorder expression will be: (1+2) * 3\n",
    "\n",
    "Its preorder expression will be: * +12 3\n",
    "\n",
    "Its postorder expression will be:  12+ 3 *\n",
    "\n",
    "Stacks are used to convert one form of expression to other forms and then they are used at various locations in the computers.\n",
    "\n",
    "............................................\n",
    "\n",
    "\n",
    "4) Solving different problems: Stacks are used to solve many different problems like paranthesis matching problems, rain water trapping problems etc.\n",
    "\n",
    "............................................\n",
    "\n",
    "\n",
    "5) Implementing the recursive functions: All the recursive functions use the call stack. Problem solving paradigms like Backtracking, Dynamic Programming (Memoization) use stacks to actually solve the problems.\n",
    "\n",
    "............................................\n",
    "\n",
    "\n",
    "6) Memory management:  The assignment of memory takes place in contiguous memory blocks. We call this stack memory allocation because the assignment takes place in the function call stack. The size of the memory to be allocated is known to the compiler. When a function is called, its variables get memory allocated on the stack. When the function call is completed, the memory for the variables is released. All this happens with the help of some predefined routines in the compiler. The user does not have to worry about memory allocation and release of stack variables.\n"
   ]
  },
  {
   "cell_type": "markdown",
   "id": "7be1673a",
   "metadata": {},
   "source": [
    "# 3. What is the difference between a stack and a queue?"
   ]
  },
  {
   "attachments": {
    "image.png": {
     "image/png": "[encoded data removed]"
    }
   },
   "cell_type": "markdown",
   "id": "6eec8d30",
   "metadata": {},
   "source": [
    "![image.png](attachment:image.png)"
   ]
  },
  {
   "cell_type": "markdown",
   "id": "593e730a",
   "metadata": {},
   "source": [
    "# 4. What are the different forms of queues?"
   ]
  },
  {
   "cell_type": "markdown",
   "id": "77f114c2",
   "metadata": {},
   "source": [
    "There are majorly 4 types of queues:\n",
    "\n",
    "1) Simple Queue\n",
    "\n",
    "2) Circular Queue\n",
    "\n",
    "3) Priority Queue\n",
    "\n",
    "4) Double-Ended Queue\n",
    " "
   ]
  },
  {
   "cell_type": "markdown",
   "id": "0185206b",
   "metadata": {},
   "source": [
    "### 1) Simple Queue"
   ]
  },
  {
   "cell_type": "markdown",
   "id": "cdf0bdcc",
   "metadata": {},
   "source": [
    "This is the most basic queue. Enqueue operation takes place at the rear, while the Dequeue operation takes place in the front.\n",
    "\n",
    "Applications: \n",
    "\n",
    "a) Process scheduling\n",
    "\n",
    "b) Disk scheduling\n",
    "\n",
    "c) Memory Management\n",
    "\n",
    "d) IO Buffer"
   ]
  },
  {
   "attachments": {
    "image.png": {
     "image/png": "[encoded data removed]"
    }
   },
   "cell_type": "markdown",
   "id": "bae62673",
   "metadata": {},
   "source": [
    "![image.png](attachment:image.png)"
   ]
  },
  {
   "cell_type": "markdown",
   "id": "f5befd45",
   "metadata": {},
   "source": [
    "### 2) Circular Queue"
   ]
  },
  {
   "cell_type": "markdown",
   "id": "1854a574",
   "metadata": {},
   "source": [
    "A Circular Queue permits better memory untilization than a simple queue when the queue has a fixed size. \n",
    "\n",
    "In this queue, the last node points to the first node and creates a circular connection. Thus, it allows us to insert an item at the first node of the queue when the last node is full and the first node is free.\n",
    "\n",
    "Applications:\n",
    "\n",
    "a) All the above mentioned applications of Simple Queue but in a better space optimized way.\n",
    "\n",
    "b) Switching lights on and off."
   ]
  },
  {
   "attachments": {
    "image.png": {
     "image/png": "[encoded data removed]"
    }
   },
   "cell_type": "markdown",
   "id": "f43b3ab5",
   "metadata": {},
   "source": [
    "![image.png](attachment:image.png)"
   ]
  },
  {
   "cell_type": "markdown",
   "id": "3382bb9f",
   "metadata": {},
   "source": [
    "### 3. Priority Queue"
   ]
  },
  {
   "cell_type": "markdown",
   "id": "25267f63",
   "metadata": {},
   "source": [
    "A Priority Queue is a special kind of queue in which each item has a predefined priority of service. In this queue, the enqueue operation takes place at the rear in the order of arrival of the items, while the dequeue operation takes place at the front based on the priority of the items.\n",
    "\n",
    "That is to say that an item with a high priority will be dequeued before an item with a low priority.\n",
    "\n",
    "In the case, when two or more items have the same priority, then they'll be dequeued in the order of their arrival. Hence, it may or may not strictly follow the FIFO rule.\n",
    "\n",
    "Applications: \n",
    "\n",
    "a) Huffman Coding Compression Algorithm\n",
    "\n",
    "b) Interupt Handling\n",
    "\n",
    "c) Prim's Algorithm\n",
    "\n",
    "d) Dijkstra's Algorithm"
   ]
  },
  {
   "attachments": {
    "image.png": {
     "image/png": "[encoded data removed]"
    }
   },
   "cell_type": "markdown",
   "id": "afce6762",
   "metadata": {},
   "source": [
    "![image.png](attachment:image.png)"
   ]
  },
  {
   "cell_type": "markdown",
   "id": "31d73d4a",
   "metadata": {},
   "source": [
    "### 4. Double-Ended Queue"
   ]
  },
  {
   "cell_type": "markdown",
   "id": "d276dce3",
   "metadata": {},
   "source": [
    "A Dequeue is also a special type of queue. In this queue, the enqueue and dequeue operations take place at both front and rear. That means, we can insert an item at both the ends and can remove the item from both the ends.\n",
    "\n",
    "Thus, it may or may not adhere to the FIFO order.\n",
    "\n",
    "\n",
    "Applications: \n",
    "\n",
    "a) Used to save browsing history\n",
    "\n",
    "b) Perform undo operations"
   ]
  },
  {
   "attachments": {
    "image.png": {
     "image/png": "[encoded data removed]"
    }
   },
   "cell_type": "markdown",
   "id": "c23e63b9",
   "metadata": {},
   "source": [
    "![image.png](attachment:image.png)"
   ]
  },
  {
   "cell_type": "markdown",
   "id": "8b34f70d",
   "metadata": {},
   "source": [
    "It has two special cases:\n",
    "    \n",
    "1) Input - Restricted Dequeue: Enqueue operation takes place only at the rear, but the Dequeue operation takes place at both rear and front.\n",
    "\n",
    "2) Output-Restricted Deque:  Enqueue operation takes place at both rear and front, but the Dequeue operation takes place only at the front."
   ]
  },
  {
   "cell_type": "markdown",
   "id": "1f8657bf",
   "metadata": {},
   "source": [
    "# 5. Why should I use Stack or Queue data structures instead of Arrays or Lists, and when should I use them?"
   ]
  },
  {
   "cell_type": "markdown",
   "id": "f2792f2c",
   "metadata": {},
   "source": [
    "Stacks and Queues are Abstract Data Structures. They impose certain rules on entering and removing data from them. \n",
    "\n",
    "Whenever we want to impose such restrictions, we should opt for Stacks and Queues. Arrays and Lists allow random access.\n",
    "\n",
    "Stack is a FILO data structure. The element that is inserted last, is removed first.\n",
    "\n",
    "Queue is FIFO data structure. The element that is inserted first, is inserted first.\n",
    "\n",
    "--------\n",
    "\n",
    "Some instances when Stack and Queues are much better choice:\n",
    "\n",
    "1) Stacks and Queues help manage our memory in a particular way than arrays and lists. Arrays and Lists are random access. They are very flexible and hence easily corruptible.  \n",
    "\n",
    "2) There are performance issues associated with arrays and lists. When we want to remove something from the begining of an array or list, it takes O(n) time, but for a queue it takes a O(1) time. \n",
    "\n",
    "\n",
    "3) In solving problems like paranthesis balancing problem, trapping rain water problem etc cannot be solved by simple lists or arrays. These problems can only be solved by stacks. \n",
    "\n",
    "\n",
    "4) Implementing Depth First Search and Breadth First Search is not possible via simple arrays and lists. We can implement them via Stacks and Queues only. We implement Depth First Search via Stacks and we implement Breadth First Search via Queues.\n",
    "\n",
    "\n",
    "-------- \n",
    "\n",
    "Areas where stacks are used:\n",
    "\n",
    "Some examples are:\n",
    "\n",
    "1) Call stack: The call stack that we have in our computers is implemented via stack only. The call stack decides which instruction or which sub routine is to be executed next.\n",
    "\n",
    "............................................\n",
    "\n",
    "2) Evaluation of expressions: Stacks are used for evaluation of any given expression. For example: (1+2) * 3 / 4. The evaluation will happen with the help of stacks.\n",
    "\n",
    "............................................\n",
    "\n",
    "3) Conversion from one form of expression to another: The same expression can be represented in more than one forms.\n",
    "\n",
    "For example, if we have an expression: (1+2)*3\n",
    "\n",
    "Its inorder expression will be: (1+2) * 3\n",
    "\n",
    "Its preorder expression will be: * +12 3\n",
    "\n",
    "Its postorder expression will be: 12+ 3 *\n",
    "\n",
    "Stacks are used to convert one form of expression to other forms and then they are used at various locations in the computers.\n",
    "\n",
    "............................................\n",
    "\n",
    "4) Solving different problems: Stacks are used to solve many different problems like paranthesis matching problems, rain water trapping problems etc.\n",
    "\n",
    "............................................\n",
    "\n",
    "5) Implementing the recursive functions: All the recursive functions use the call stack. Problem solving paradigms like Backtracking, Dynamic Programming (Memoization) use stacks to actually solve the problems.\n",
    "\n",
    "............................................\n",
    "\n",
    "6) Memory management: The assignment of memory takes place in contiguous memory blocks. We call this stack memory allocation because the assignment takes place in the function call stack. The size of the memory to be allocated is known to the compiler. When a function is called, its variables get memory allocated on the stack. When the function call is completed, the memory for the variables is released. All this happens with the help of some predefined routines in the compiler. The user does not have to worry about memory allocation and release of stack variables.\n",
    "\n",
    "\n",
    "------------\n",
    "\n",
    "Areas where Queue are used:\n",
    "\n",
    "1) When resource is shared among multiple consumers. Examples include CPU Scheduling, Disk Scheduling.\n",
    "\n",
    "2) Implementing Asynchronous Message Queues in System Design.\n",
    "\n",
    "3) Implementing Semaphores\n",
    "\n",
    "4) Implementing Queues in routers/ switches\n",
    "\n",
    "\n"
   ]
  },
  {
   "cell_type": "code",
   "execution_count": null,
   "id": "cb3c556d",
   "metadata": {},
   "outputs": [],
   "source": []
  },
  {
   "cell_type": "markdown",
   "id": "eaa9884b",
   "metadata": {},
   "source": [
    "# 6. What is the significance of Stack being a recursive data structure?"
   ]
  },
  {
   "cell_type": "markdown",
   "id": "e60b247c",
   "metadata": {},
   "source": [
    "Stack is a LIFO data structure. The element that is inserted last,is removed first.\n",
    "\n",
    "In other words, the object is inserted last, is operated on first. \n",
    "\n",
    "---------------------\n",
    "\n",
    "What is Recursion??\n",
    "\n",
    "Recursion is a paradigm in Computer Science where a function calls itself again and again. With each function, the input is reduced till we hit the base case. After hitting base condition, all the remaining functions are executed.\n",
    "\n",
    "-----------------------\n",
    "\n",
    "\n",
    "Stacks and Recursion:\n",
    "\n",
    "Because of the behaviour of stacks, recursion is implemented using stacks only. We have a special stack within our computer called \"Call Stack\". Call stack keeps track of active subroutines and also the current function that is in execution. \n",
    "\n",
    "Recursive functions use the call stack. When a program calls a function, the function goes on top of call stack. This is simmilar to stack of books. We add things, one at a time. When we are ready to take something off, we always take off the top item.\n",
    "\n",
    "\n",
    "Stack is not only used to perform recursion but any bunch of nested function calls. Recursion is a special case wherein all the nested function calls are to the same function, or the same function is called in a cyclic chain of function calls.\n",
    "\n"
   ]
  },
  {
   "cell_type": "markdown",
   "id": "aaab4092",
   "metadata": {},
   "source": [
    "Other Advantages of stack being a recursive data structure:\n",
    "\n",
    "1) Evaluating different kinds of expressions: Stack is used to evaluate postfix and prefix expressions. This is because of stack being a recursive data structure.\n",
    "\n",
    "2) Solving different problems: Problems like rain water trapping problem, paranthesis matching etc are only possible via stacks.\n",
    "\n",
    "3) Memory management: The assignment of memory takes place in contiguous memory blocks. We call this stack memory allocation because the assignment takes place in the function call stack. The size of the memory to be allocated is known to the compiler. When a function is called, its variables get memory allocated on the stack. When the function call is completed, the memory for the variables is released. All this happens with the help of some predefined routines in the compiler. The user does not have to worry about memory allocation and release of stack variables.\n"
   ]
  },
  {
   "cell_type": "code",
   "execution_count": null,
   "id": "90b925f2",
   "metadata": {},
   "outputs": [],
   "source": []
  }
 ],
 "metadata": {
  "kernelspec": {
   "display_name": "Python 3",
   "language": "python",
   "name": "python3"
  },
  "language_info": {
   "codemirror_mode": {
    "name": "ipython",
    "version": 3
   },
   "file_extension": ".py",
   "mimetype": "text/x-python",
   "name": "python",
   "nbconvert_exporter": "python",
   "pygments_lexer": "ipython3",
   "version": "3.8.8"
  }
 },
 "nbformat": 4,
 "nbformat_minor": 5
}
