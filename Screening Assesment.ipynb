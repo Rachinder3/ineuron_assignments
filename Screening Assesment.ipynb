{
 "cells": [
  {
   "cell_type": "markdown",
   "id": "af20e870",
   "metadata": {},
   "source": [
    "# Questions"
   ]
  },
  {
   "cell_type": "markdown",
   "id": "686277dc",
   "metadata": {},
   "source": [
    "1. Create a function in python to read the text file and replace specific contentof the file.\n",
    "\n",
    "2. Demonstrate use of abstract class, multiple inheritance and decorator in\n",
    "python using examples."
   ]
  },
  {
   "cell_type": "markdown",
   "id": "7c9dc3b0",
   "metadata": {},
   "source": [
    "# 1. Create a function in python to read the text file and replace specific content of the file."
   ]
  },
  {
   "cell_type": "code",
   "execution_count": 30,
   "id": "ced43f08",
   "metadata": {},
   "outputs": [],
   "source": [
    "def replace_specific_content(file_path, old, new):\n",
    "    try:\n",
    "        data = \"\"\n",
    "        with open(file_path,'r') as file_obj:\n",
    "            data = file_obj.read()\n",
    "            data = data.replace(old,new)\n",
    "        return(data)\n",
    "    except Exception as e:\n",
    "        return(str(e))"
   ]
  },
  {
   "cell_type": "code",
   "execution_count": 33,
   "id": "f70a7db1",
   "metadata": {},
   "outputs": [],
   "source": [
    "file_path = 'example.txt'"
   ]
  },
  {
   "cell_type": "code",
   "execution_count": 34,
   "id": "e2f8f679",
   "metadata": {},
   "outputs": [
    {
     "data": {
      "text/plain": [
       "'This is screening assignment.'"
      ]
     },
     "execution_count": 34,
     "metadata": {},
     "output_type": "execute_result"
    }
   ],
   "source": [
    "replace_specific_content(file_path,'placement','screening')"
   ]
  },
  {
   "cell_type": "code",
   "execution_count": null,
   "id": "878a5bc7",
   "metadata": {},
   "outputs": [],
   "source": []
  },
  {
   "cell_type": "markdown",
   "id": "a290dc94",
   "metadata": {},
   "source": [
    "# 2. Demonstrate use of abstract class, multiple inheritance and decorator in python using examples."
   ]
  },
  {
   "cell_type": "code",
   "execution_count": null,
   "id": "5b3d886b",
   "metadata": {},
   "outputs": [],
   "source": []
  },
  {
   "cell_type": "markdown",
   "id": "947ca24b",
   "metadata": {},
   "source": [
    "#### a. Abstract class"
   ]
  },
  {
   "cell_type": "markdown",
   "id": "a4e77e95",
   "metadata": {},
   "source": [
    "With the help of abstract classes, we declare functions within the abstract class but all the definitions are to be written within the Child classes."
   ]
  },
  {
   "cell_type": "code",
   "execution_count": 35,
   "id": "841a5636",
   "metadata": {},
   "outputs": [],
   "source": [
    "from abc import ABC, abstractmethod"
   ]
  },
  {
   "cell_type": "code",
   "execution_count": 36,
   "id": "13eb3dcb",
   "metadata": {},
   "outputs": [],
   "source": [
    "class Polygon(ABC):\n",
    "    @abstractmethod\n",
    "    def no_of_sides(self):\n",
    "        pass"
   ]
  },
  {
   "cell_type": "code",
   "execution_count": 37,
   "id": "d91fe302",
   "metadata": {},
   "outputs": [],
   "source": [
    "class Triangle(Polygon):\n",
    "    \n",
    "    # overwrite abstract method\n",
    "    def no_of_sides(self):\n",
    "        return 3"
   ]
  },
  {
   "cell_type": "code",
   "execution_count": 38,
   "id": "c569264f",
   "metadata": {},
   "outputs": [],
   "source": [
    "class Quadrilateral(Polygon):\n",
    "    \n",
    "    \n",
    "    # overwrite abtract method\n",
    "    def no_of_sides(self):\n",
    "        return 4"
   ]
  },
  {
   "cell_type": "code",
   "execution_count": 39,
   "id": "f023f4b0",
   "metadata": {},
   "outputs": [],
   "source": [
    "q = Quadrilateral()"
   ]
  },
  {
   "cell_type": "code",
   "execution_count": 40,
   "id": "8eaa8efa",
   "metadata": {},
   "outputs": [
    {
     "data": {
      "text/plain": [
       "4"
      ]
     },
     "execution_count": 40,
     "metadata": {},
     "output_type": "execute_result"
    }
   ],
   "source": [
    "q.no_of_sides()"
   ]
  },
  {
   "cell_type": "markdown",
   "id": "be451a72",
   "metadata": {},
   "source": [
    "# b. multiple inheritance"
   ]
  },
  {
   "cell_type": "markdown",
   "id": "14926078",
   "metadata": {},
   "source": [
    "#### With Multiple inheritance we are able to inherit multiple classes"
   ]
  },
  {
   "cell_type": "code",
   "execution_count": 76,
   "id": "92f975b9",
   "metadata": {},
   "outputs": [],
   "source": [
    "class parent1:\n",
    "    def __init__(self,var1):\n",
    "        self.var1 = var1\n",
    "        "
   ]
  },
  {
   "cell_type": "code",
   "execution_count": 81,
   "id": "e7d5e2ab",
   "metadata": {},
   "outputs": [],
   "source": [
    "class parent2:\n",
    "    def __init__(self, var2):\n",
    "        self.var2 = var2"
   ]
  },
  {
   "cell_type": "code",
   "execution_count": 105,
   "id": "467a9fea",
   "metadata": {},
   "outputs": [],
   "source": [
    "class child(parent1,parent2):\n",
    "    def __init__(self, *args, **kwargs):\n",
    "        parent1.__init__(self,args)\n",
    "        parent2.__init__(self,kwargs)"
   ]
  },
  {
   "cell_type": "code",
   "execution_count": null,
   "id": "4e5f950c",
   "metadata": {},
   "outputs": [],
   "source": []
  },
  {
   "cell_type": "code",
   "execution_count": 110,
   "id": "d6cdb50f",
   "metadata": {},
   "outputs": [],
   "source": [
    "obj = child(1,var2=4)"
   ]
  },
  {
   "cell_type": "code",
   "execution_count": 111,
   "id": "c79ef96f",
   "metadata": {},
   "outputs": [
    {
     "name": "stdout",
     "output_type": "stream",
     "text": [
      "(1,)\n"
     ]
    }
   ],
   "source": [
    "print(obj.var1)"
   ]
  },
  {
   "cell_type": "code",
   "execution_count": 112,
   "id": "1a68624b",
   "metadata": {},
   "outputs": [
    {
     "name": "stdout",
     "output_type": "stream",
     "text": [
      "{'var2': 4}\n"
     ]
    }
   ],
   "source": [
    "print(obj.var2)"
   ]
  },
  {
   "cell_type": "markdown",
   "id": "a5e5a6f2",
   "metadata": {},
   "source": [
    "child class doesn't have any instance variables. But we are still able to see var1 and var2 which are instance attributes of parent classes. This means that we are able to \"inherit\" attributes from multiple classes"
   ]
  },
  {
   "cell_type": "markdown",
   "id": "9f13640e",
   "metadata": {},
   "source": [
    "# c. Decorator"
   ]
  },
  {
   "cell_type": "markdown",
   "id": "55d7fc4f",
   "metadata": {},
   "source": [
    "In python, we can pass functions as arguements to the other functions.\n",
    "Decorator is a special function which takes functions as arguements and make changes to their behaviour, without altering the definition of passed function. "
   ]
  },
  {
   "cell_type": "code",
   "execution_count": 114,
   "id": "4ad9b786",
   "metadata": {},
   "outputs": [],
   "source": [
    "def custom_decorator(fun):\n",
    "    print(\"Within Decorator\")\n",
    "    \n",
    "    fun()\n",
    "    \n",
    "    print(\"Exiting the decorator\")"
   ]
  },
  {
   "cell_type": "code",
   "execution_count": 118,
   "id": "5c7d8ee5",
   "metadata": {},
   "outputs": [
    {
     "name": "stdout",
     "output_type": "stream",
     "text": [
      "Within Decorator\n",
      "This is our function\n",
      "Exiting the decorator\n"
     ]
    }
   ],
   "source": [
    "@custom_decorator\n",
    "def our_function():\n",
    "    print(\"This is our function\")"
   ]
  },
  {
   "cell_type": "markdown",
   "id": "f7f65853",
   "metadata": {},
   "source": [
    "Here, we have passed the function (\"our_function\") to the decorator (\"custom_decorator\"), we can see the function behaviour got altered, without changing its definition "
   ]
  },
  {
   "cell_type": "code",
   "execution_count": null,
   "id": "4f17dffd",
   "metadata": {},
   "outputs": [],
   "source": []
  },
  {
   "cell_type": "code",
   "execution_count": null,
   "id": "b7bf8f65",
   "metadata": {},
   "outputs": [],
   "source": []
  },
  {
   "cell_type": "code",
   "execution_count": null,
   "id": "780a0470",
   "metadata": {},
   "outputs": [],
   "source": []
  }
 ],
 "metadata": {
  "kernelspec": {
   "display_name": "Python 3 (ipykernel)",
   "language": "python",
   "name": "python3"
  },
  "language_info": {
   "codemirror_mode": {
    "name": "ipython",
    "version": 3
   },
   "file_extension": ".py",
   "mimetype": "text/x-python",
   "name": "python",
   "nbconvert_exporter": "python",
   "pygments_lexer": "ipython3",
   "version": "3.9.7"
  }
 },
 "nbformat": 4,
 "nbformat_minor": 5
}
